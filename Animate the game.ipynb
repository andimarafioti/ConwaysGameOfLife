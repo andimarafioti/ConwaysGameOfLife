{
 "cells": [
  {
   "cell_type": "code",
   "execution_count": null,
   "metadata": {},
   "outputs": [],
   "source": [
    "%matplotlib notebook\n",
    "import numpy as np\n",
    "import matplotlib.pyplot as plt\n",
    "import matplotlib.animation as animation\n",
    "\n",
    "plt.rcParams.update({'font.size': 12});"
   ]
  },
  {
   "cell_type": "code",
   "execution_count": null,
   "metadata": {},
   "outputs": [],
   "source": [
    "#Start the game\n",
    "from TheGame.conwaysGameOfLife import ConwaysGameOfLife\n",
    "from Geometry.point import Point\n",
    "\n",
    "anArrayOfPointsIndicatingAliveCells = [Point(10,10), Point(11,10), Point(9,10),Point(8,10),Point(12,10),\n",
    "                                      Point(10,11), Point(10,12), Point(10,13), Point(11,11), Point(12,12)]\n",
    "\n",
    "aGameOfLife = ConwaysGameOfLife(anArrayOfPointsIndicatingAliveCells=anArrayOfPointsIndicatingAliveCells)\n",
    "\n",
    "#setup figure\n",
    "fig = plt.figure(dpi=100)\n",
    "ax2 = fig.add_subplot(1,1,1)\n",
    "ax2.set_title(\"Conway's game of life\")\n",
    "\n",
    "#set up image for animation\n",
    "matrix = np.zeros([20, 20])\n",
    "aliveCells = aGameOfLife.aliveCells()\n",
    "\n",
    "\n",
    "im = ax2.imshow(matrix, aspect='auto')\n",
    "\n",
    "def func(n):\n",
    "    matrix = np.zeros([20, 20])\n",
    "    aliveCells = aGameOfLife.aliveCells()\n",
    "\n",
    "    for cell in aliveCells:\n",
    "        x, y = cell.x(), cell.y()\n",
    "        if not (0 < x < 19) or not(0 < y < 19):\n",
    "            continue\n",
    "        matrix[y, x] = 1\n",
    "\n",
    "    im = ax2.imshow(matrix, aspect='auto')\n",
    "    aGameOfLife.nextGeneration()\n",
    "    return im\n",
    "\n",
    "ani = animation.FuncAnimation(fig, func, frames=300, interval=500, blit=False, repeat=True)\n",
    "\n",
    "plt.show()\n",
    "\n",
    "# ani.save('Conways-gol.mp4')"
   ]
  },
  {
   "cell_type": "code",
   "execution_count": null,
   "metadata": {},
   "outputs": [],
   "source": []
  }
 ],
 "metadata": {
  "kernelspec": {
   "display_name": "Python 3",
   "language": "python",
   "name": "python3"
  },
  "language_info": {
   "codemirror_mode": {
    "name": "ipython",
    "version": 3
   },
   "file_extension": ".py",
   "mimetype": "text/x-python",
   "name": "python",
   "nbconvert_exporter": "python",
   "pygments_lexer": "ipython3",
   "version": "3.6.3"
  }
 },
 "nbformat": 4,
 "nbformat_minor": 2
}
